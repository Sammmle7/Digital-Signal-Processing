{
 "cells": [
  {
   "cell_type": "markdown",
   "metadata": {},
   "source": [
    "求序列 $x=\\begin{bmatrix}  3, & 11, & 7, & 0, & -11, & 4, & 2\\end{bmatrix}$ 和 $h=\\begin{bmatrix}  2, & 3, & 0, & -5, & 2, & 1\\end{bmatrix}$ 的线性卷积。"
   ]
  },
  {
   "cell_type": "code",
   "execution_count": 1,
   "metadata": {},
   "outputs": [
    {
     "data": {
      "image/png": "[encoded data removed]",
      "text/plain": [
       "<Figure size 432x288 with 1 Axes>"
      ]
     },
     "metadata": {
      "needs_background": "light"
     },
     "output_type": "display_data"
    }
   ],
   "source": [
    "import numpy as np\n",
    "import matplotlib.pyplot as plt\n",
    "from math import *\n",
    "def conv_m(x,h):\n",
    "    nx=len(x)\n",
    "    nh=len(h)\n",
    "    ny=nx+nh-1\n",
    "    y=np.zeros(ny)#初始化\n",
    "    for n in np.arange(ny):\n",
    "        y[n]=0\n",
    "        for m in np.arange(nh):\n",
    "            k=n-m+1\n",
    "            if k>=1 and k<=nx:\n",
    "                y[n]=y[n]+h[m]*x[k-1]#卷积\n",
    "    plt.rcParams['font.sans-serif'] = [u'SimHei']\n",
    "    plt.rcParams['axes.unicode_minus'] = False#显示中文标签\n",
    "    plt.stem(y)\n",
    "    plt.title('线性卷积')\n",
    "    plt.xlabel('n')\n",
    "    plt.ylabel('y')\n",
    "    plt.show()\n",
    "conv_m(np.array([3,11,7,0,-11,4,2]),np.array([2,3,0,-5,2,1]))"
   ]
  },
  {
   "cell_type": "markdown",
   "metadata": {},
   "source": [
    "求序列 $x1=\\begin{bmatrix}  1, & 2, & 3\\end{bmatrix}$ ， $x2=\\begin{bmatrix}  2.3, & 1, & 2\\end{bmatrix}$ ，$N=5$ 时的的线性卷积。"
   ]
  },
  {
   "cell_type": "code",
   "execution_count": 2,
   "metadata": {},
   "outputs": [
    {
     "data": {
      "image/png": "[encoded data removed]",
      "text/plain": [
       "<Figure size 432x288 with 1 Axes>"
      ]
     },
     "metadata": {
      "needs_background": "light"
     },
     "output_type": "display_data"
    }
   ],
   "source": [
    "import numpy as np\n",
    "import matplotlib.pyplot as plt\n",
    "from math import *\n",
    "def conv_m(x,h):#线性卷积\n",
    "    nx=len(x)\n",
    "    nh=len(h)\n",
    "    ny=nx+nh-1\n",
    "    y=np.zeros(ny)#初始化\n",
    "    for n in np.arange(ny):\n",
    "        y[n]=0\n",
    "        for m in np.arange(nh):\n",
    "            k=n-m+1\n",
    "            if k>=1 and k<=nx:\n",
    "                y[n]=y[n]+h[m]*x[k-1]#卷积\n",
    "    return(y)\n",
    "def cir_con(x1,x2,N):#圆周卷积\n",
    "    nx1=np.arange(0,len(x1))\n",
    "    nx2=np.arange(0,len(x2))\n",
    "    x_1=np.append(x1,np.zeros(N-len(x1)))\n",
    "    h_1=np.append(x2,np.zeros(N-len(x2)))\n",
    "    y1=conv_m(x_1,h_1)#调用线性卷积函数\n",
    "    z_1=np.append(np.zeros(N),y1[0:N])\n",
    "    z_2=np.append((y1[N:2*N]),np.zeros(N))\n",
    "    z=z_1[0:2*N-1]+z_2[0:2*N-1]+y1[0:2*N-1]\n",
    "    y=z[0:N]\n",
    "    ny=np.arange(0,N)\n",
    "    plt.rcParams['font.sans-serif'] = [u'SimHei']\n",
    "    plt.rcParams['axes.unicode_minus'] = False#显示中文标签\n",
    "    plt.stem(y)\n",
    "    plt.title('线性卷积')\n",
    "    plt.xlabel('n')\n",
    "    plt.ylabel('y')\n",
    "    plt.show()\n",
    "cir_con(np.array([1,2,3]),np.array([2,3,1,2]),5)"
   ]
  },
  {
   "cell_type": "code",
   "execution_count": null,
   "metadata": {},
   "outputs": [],
   "source": []
  }
 ],
 "metadata": {
  "kernelspec": {
   "display_name": "Python 3",
   "language": "python",
   "name": "python3"
  },
  "language_info": {
   "codemirror_mode": {
    "name": "ipython",
    "version": 3
   },
   "file_extension": ".py",
   "mimetype": "text/x-python",
   "name": "python",
   "nbconvert_exporter": "python",
   "pygments_lexer": "ipython3",
   "version": "3.8.8"
  }
 },
 "nbformat": 4,
 "nbformat_minor": 2
}
