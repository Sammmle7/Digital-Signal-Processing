{
 "cells": [
  {
   "cell_type": "markdown",
   "metadata": {},
   "source": [
    "利用离散傅立叶变换公式 $X(k)=DFT[x(n)]=\\sum_{n=0}^{N-1}x(n)W_{N}^{kn}$ 和离散傅立叶逆变换公式 $x(n)=IDFT[X(k)]=\\frac{1}{N}\\sum_{k=0}^{N-1}X(k)W_{N}^{-kn}$ ，以长度 $N=6$ 对输入信号进行求值。 "
   ]
  },
  {
   "cell_type": "code",
   "execution_count": 1,
   "metadata": {},
   "outputs": [],
   "source": [
    "# 导入使用的库\n",
    "import matplotlib.pyplot as plt\n",
    "import numpy as np\n",
    "import math\n",
    "import numpy as np"
   ]
  },
  {
   "cell_type": "code",
   "execution_count": 2,
   "metadata": {},
   "outputs": [],
   "source": [
    "# 采样点取值\n",
    "N = 6\n",
    "# 样本间距\n",
    "T = 1.0 / 6.0\n",
    "x = np.linspace(0.0, N*T, N, endpoint=False)\n",
    "ys = x"
   ]
  },
  {
   "cell_type": "code",
   "execution_count": 3,
   "metadata": {},
   "outputs": [],
   "source": [
    "# 构建信号：创建一个函数来计算复合矩阵M\n",
    "def synthesis_matrix(N):\n",
    "    ts = np.arange(N)/N\n",
    "    fs = np.arange(N)\n",
    "    args = np.outer(ts,fs)\n",
    "    M = np.exp(1j*2*math.pi*args)\n",
    "    return M"
   ]
  },
  {
   "cell_type": "code",
   "execution_count": 4,
   "metadata": {},
   "outputs": [],
   "source": [
    "# 定义DFT变换\n",
    "def dft(ys):\n",
    "    N = len(ys)\n",
    "    M = synthesis_matrix(N)\n",
    "    amps = M.conj().transpose().dot(ys)#Calculate the weighted sum of frequency elements\n",
    "    return amps"
   ]
  },
  {
   "cell_type": "code",
   "execution_count": 5,
   "metadata": {},
   "outputs": [],
   "source": [
    "# 定义DFT逆变换\n",
    "def idft(ys):\n",
    "    N = len(ys)\n",
    "    M = synthesis_matrix(N)\n",
    "    amps = M.dot(ys)/N\n",
    "    return amps"
   ]
  },
  {
   "cell_type": "code",
   "execution_count": 6,
   "metadata": {},
   "outputs": [
    {
     "name": "stdout",
     "output_type": "stream",
     "text": [
      "[ 2.5+0.00000000e+00j -0.5+8.66025404e-01j -0.5+2.88675135e-01j\n",
      " -0.5-3.06161700e-16j -0.5-2.88675135e-01j -0.5-8.66025404e-01j]\n",
      "[ 0.41666667+0.00000000e+00j -0.08333333-1.44337567e-01j\n",
      " -0.08333333-4.81125224e-02j -0.08333333+5.10269500e-17j\n",
      " -0.08333333+4.81125224e-02j -0.08333333+1.44337567e-01j]\n"
     ]
    }
   ],
   "source": [
    "print(dft(ys))\n",
    "print(idft(ys))"
   ]
  },
  {
   "cell_type": "code",
   "execution_count": null,
   "metadata": {},
   "outputs": [],
   "source": []
  }
 ],
 "metadata": {
  "kernelspec": {
   "display_name": "Python 3",
   "language": "python",
   "name": "python3"
  },
  "language_info": {
   "codemirror_mode": {
    "name": "ipython",
    "version": 3
   },
   "file_extension": ".py",
   "mimetype": "text/x-python",
   "name": "python",
   "nbconvert_exporter": "python",
   "pygments_lexer": "ipython3",
   "version": "3.8.8"
  }
 },
 "nbformat": 4,
 "nbformat_minor": 2
}
